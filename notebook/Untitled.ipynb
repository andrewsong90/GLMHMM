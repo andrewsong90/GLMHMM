{
 "cells": [
  {
   "cell_type": "code",
   "execution_count": 6,
   "metadata": {},
   "outputs": [],
   "source": [
    "import numpy as np\n",
    "from scipy.sparse import spdiags\n",
    "from scipy.linalg import block_diag\n",
    "\n",
    "from scipy.io import loadmat, savemat"
   ]
  },
  {
   "cell_type": "code",
   "execution_count": 2,
   "metadata": {},
   "outputs": [],
   "source": [
    "emit_w = np.ones((6,241))\n",
    "numOfbins = 30"
   ]
  },
  {
   "cell_type": "code",
   "execution_count": 3,
   "metadata": {},
   "outputs": [],
   "source": [
    "Dx1 = spdiags((np.ones((emit_w.shape[1] - 1, 1)) * np.array([-1, 1])).T, np.array([0, 1]), emit_w.shape[1] - 1 - 1, emit_w.shape[1] - 1).toarray()\n",
    "Dx = np.matmul(Dx1.T, Dx1)\n",
    "\n",
    "for fstart in range(numOfbins, emit_w.shape[1] - 1, numOfbins):\n",
    "    Dx[fstart, fstart] = 1\n",
    "    Dx[fstart - 1, fstart - 1] = 1\n",
    "    Dx[fstart - 1, fstart] = 0\n",
    "    Dx[fstart, fstart - 1] = 0\n",
    "\n",
    "D = block_diag(Dx, 0)"
   ]
  },
  {
   "cell_type": "code",
   "execution_count": 4,
   "metadata": {},
   "outputs": [
    {
     "data": {
      "text/plain": [
       "array([[ 2., -1.,  0.,  0.],\n",
       "       [-1.,  1.,  0.,  0.],\n",
       "       [ 0.,  0.,  1., -1.],\n",
       "       [ 0.,  0., -1.,  2.]])"
      ]
     },
     "execution_count": 4,
     "metadata": {},
     "output_type": "execute_result"
    }
   ],
   "source": [
    "Dx[numOfbins-2:numOfbins+2, numOfbins-2:numOfbins+2]"
   ]
  },
  {
   "cell_type": "code",
   "execution_count": 25,
   "metadata": {},
   "outputs": [],
   "source": [
    "savemat('./test.mat', {'d': Dx, 'hi':{'1':np.arange(10,5),'2':np.arange(10,5)}})"
   ]
  },
  {
   "cell_type": "code",
   "execution_count": 26,
   "metadata": {},
   "outputs": [],
   "source": [
    "info = loadmat('test.mat')"
   ]
  },
  {
   "cell_type": "code",
   "execution_count": 27,
   "metadata": {},
   "outputs": [
    {
     "data": {
      "text/plain": [
       "{'__header__': b'MATLAB 5.0 MAT-file Platform: posix, Created on: Sun Aug  1 14:10:57 2021',\n",
       " '__version__': '1.0',\n",
       " '__globals__': [],\n",
       " 'd': array([[ 1., -1.,  0., ...,  0.,  0.,  0.],\n",
       "        [-1.,  2., -1., ...,  0.,  0.,  0.],\n",
       "        [ 0., -1.,  2., ...,  0.,  0.,  0.],\n",
       "        ...,\n",
       "        [ 0.,  0.,  0., ...,  2., -1.,  0.],\n",
       "        [ 0.,  0.,  0., ..., -1.,  2., -1.],\n",
       "        [ 0.,  0.,  0., ...,  0., -1.,  1.]]),\n",
       " 'hi': array([[None]], dtype=object)}"
      ]
     },
     "execution_count": 27,
     "metadata": {},
     "output_type": "execute_result"
    }
   ],
   "source": [
    "info"
   ]
  },
  {
   "cell_type": "code",
   "execution_count": 29,
   "metadata": {},
   "outputs": [
    {
     "data": {
      "text/plain": [
       "array([[0, 1, 2, 3, 4, 5, 6, 7, 8, 9],\n",
       "       [0, 1, 2, 3, 4, 5, 6, 7, 8, 9]])"
      ]
     },
     "execution_count": 29,
     "metadata": {},
     "output_type": "execute_result"
    }
   ],
   "source": [
    "a=[np.arange(10), np.arange(10)]\n",
    "np.stack(a, axis=0)"
   ]
  },
  {
   "cell_type": "code",
   "execution_count": 31,
   "metadata": {},
   "outputs": [
    {
     "data": {
      "text/plain": [
       "nan"
      ]
     },
     "execution_count": 31,
     "metadata": {},
     "output_type": "execute_result"
    }
   ],
   "source": [
    "np.exp(np.nan)"
   ]
  },
  {
   "cell_type": "code",
   "execution_count": null,
   "metadata": {},
   "outputs": [],
   "source": []
  }
 ],
 "metadata": {
  "kernelspec": {
   "display_name": "Python 3",
   "language": "python",
   "name": "python3"
  },
  "language_info": {
   "codemirror_mode": {
    "name": "ipython",
    "version": 3
   },
   "file_extension": ".py",
   "mimetype": "text/x-python",
   "name": "python",
   "nbconvert_exporter": "python",
   "pygments_lexer": "ipython3",
   "version": "3.7.6"
  }
 },
 "nbformat": 4,
 "nbformat_minor": 4
}
