{
 "cells": [
  {
   "cell_type": "code",
   "execution_count": 1,
   "metadata": {},
   "outputs": [],
   "source": [
    "import numpy as np\n",
    "from scipy.sparse import spdiags\n",
    "from scipy.linalg import block_diag\n",
    "\n",
    "from scipy.io import loadmat, savemat\n",
    "import matplotlib.pyplot as plt"
   ]
  },
  {
   "cell_type": "code",
   "execution_count": 3,
   "metadata": {},
   "outputs": [],
   "source": [
    "PATH = '/mnt/c/1_Research/workspace/GLMHMM/results/2021_08_01_17_39_51_state2_lambda0.05_iter200/result.mat'\n",
    "info = loadmat(PATH)"
   ]
  },
  {
   "cell_type": "code",
   "execution_count": 4,
   "metadata": {},
   "outputs": [
    {
     "data": {
      "text/plain": [
       "dict_keys(['__header__', '__version__', '__globals__', 'behavior', 'forward_ll_0', 'forward_ll_1', 'forward_ll_2', 'animal_list', 'animal_list_test', 'emit_w_init', 'emit_w_final', 'trans_w_init', 'trans_w_final'])"
      ]
     },
     "execution_count": 4,
     "metadata": {},
     "output_type": "execute_result"
    }
   ],
   "source": [
    "info.keys()"
   ]
  },
  {
   "cell_type": "code",
   "execution_count": 7,
   "metadata": {},
   "outputs": [],
   "source": [
    "emit_w = np.random.randn(3,4,8)"
   ]
  },
  {
   "cell_type": "code",
   "execution_count": 8,
   "metadata": {},
   "outputs": [],
   "source": [
    "b=np.reshape(emit_w[0, :, :].T, (emit_w.shape[1] * emit_w.shape[2]), order = 'F')"
   ]
  },
  {
   "cell_type": "code",
   "execution_count": 10,
   "metadata": {},
   "outputs": [],
   "source": [
    "c=np.reshape(b, (8,4), order='F').T"
   ]
  },
  {
   "cell_type": "code",
   "execution_count": 23,
   "metadata": {},
   "outputs": [],
   "source": [
    "a = np.random.randn(4,6)\n",
    "b=np.zeros((1,6))\n",
    "c=np.vstack((a,b))"
   ]
  },
  {
   "cell_type": "code",
   "execution_count": 30,
   "metadata": {},
   "outputs": [],
   "source": [
    "d=c/np.sum(c, axis=0)"
   ]
  },
  {
   "cell_type": "code",
   "execution_count": 32,
   "metadata": {},
   "outputs": [
    {
     "data": {
      "text/plain": [
       "array([[ 0.47271741,  0.00998967,  3.26808404,  0.1489838 ,  0.18527871,\n",
       "         1.28273682],\n",
       "       [ 0.58633748,  0.1678114 , -4.57621755, -0.35086236,  0.07447568,\n",
       "        -2.91885645],\n",
       "       [ 0.03300153,  0.76933154, -4.47167954,  0.31742544,  0.34866723,\n",
       "         0.70408511],\n",
       "       [-0.09205641,  0.05286739,  6.77981306,  0.88445312,  0.39157837,\n",
       "         1.93203452],\n",
       "       [ 0.        ,  0.        ,  0.        ,  0.        , -0.        ,\n",
       "        -0.        ]])"
      ]
     },
     "execution_count": 32,
     "metadata": {},
     "output_type": "execute_result"
    }
   ],
   "source": [
    "d"
   ]
  },
  {
   "cell_type": "code",
   "execution_count": null,
   "metadata": {},
   "outputs": [],
   "source": []
  }
 ],
 "metadata": {
  "kernelspec": {
   "display_name": "Python 3",
   "language": "python",
   "name": "python3"
  },
  "language_info": {
   "codemirror_mode": {
    "name": "ipython",
    "version": 3
   },
   "file_extension": ".py",
   "mimetype": "text/x-python",
   "name": "python",
   "nbconvert_exporter": "python",
   "pygments_lexer": "ipython3",
   "version": "3.7.6"
  }
 },
 "nbformat": 4,
 "nbformat_minor": 4
}
