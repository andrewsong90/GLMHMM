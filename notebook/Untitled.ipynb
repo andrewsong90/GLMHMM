{
 "cells": [
  {
   "cell_type": "code",
   "execution_count": 11,
   "metadata": {},
   "outputs": [],
   "source": [
    "import numpy as np\n",
    "from scipy.sparse import spdiags\n",
    "from scipy.linalg import block_diag\n",
    "import os\n",
    "\n",
    "from scipy.io import loadmat, savemat\n",
    "import matplotlib.pyplot as plt"
   ]
  },
  {
   "cell_type": "code",
   "execution_count": 31,
   "metadata": {},
   "outputs": [],
   "source": [
    "PATH = '../results/state1/result.mat'\n",
    "info = loadmat(PATH)\n",
    "\n",
    "PATH = '../src/result.mat'\n",
    "info2 = loadmat(PATH)"
   ]
  },
  {
   "cell_type": "code",
   "execution_count": 32,
   "metadata": {},
   "outputs": [],
   "source": [
    "info['behavior_test'] = info2['behavior_test']"
   ]
  },
  {
   "cell_type": "code",
   "execution_count": 33,
   "metadata": {},
   "outputs": [
    {
     "data": {
      "text/plain": [
       "dict_keys(['__header__', '__version__', '__globals__', 'behavior', 'prob_emission_0_train', 'prob_emission_1_train', 'prob_emission_2_train', 'prob_emission_3_train', 'prob_emission_4_train', 'prob_emission_5_train', 'prob_emission_0_test', 'prob_emission_1_test', 'prob_emission_2_test', 'prob_emission_3_test', 'prob_emission_4_test', 'prob_emission_5_test', 'train_stamp', 'test_stamp', 'fs', 'animal_list', 'animal_list_test', 'trajectory_train', 'trajectory_test', 'forward_ll_train', 'forward_ll_test', 'chance_ll_train', 'chance_ll_test', 'random_seed', 'emit_w_init', 'emit_w_final', 'trans_w_init', 'trans_w_final', 'behavior_test'])"
      ]
     },
     "execution_count": 33,
     "metadata": {},
     "output_type": "execute_result"
    }
   ],
   "source": [
    "info.keys()"
   ]
  },
  {
   "cell_type": "code",
   "execution_count": 34,
   "metadata": {},
   "outputs": [],
   "source": [
    "savemat(os.path.join('../results/state1/result2.mat'), info)"
   ]
  },
  {
   "cell_type": "code",
   "execution_count": null,
   "metadata": {},
   "outputs": [],
   "source": []
  }
 ],
 "metadata": {
  "kernelspec": {
   "display_name": "Python 3",
   "language": "python",
   "name": "python3"
  },
  "language_info": {
   "codemirror_mode": {
    "name": "ipython",
    "version": 3
   },
   "file_extension": ".py",
   "mimetype": "text/x-python",
   "name": "python",
   "nbconvert_exporter": "python",
   "pygments_lexer": "ipython3",
   "version": "3.8.3"
  }
 },
 "nbformat": 4,
 "nbformat_minor": 4
}
