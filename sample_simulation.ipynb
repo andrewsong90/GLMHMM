{
 "cells": [
  {
   "cell_type": "code",
   "execution_count": 1,
   "metadata": {},
   "outputs": [],
   "source": [
    "import numpy as np\n",
    "import matplotlib.pyplot as plt\n",
    "from temp_glm_hmm import GLMHMMEstimator\n",
    "from scipy.io import loadmat"
   ]
  },
  {
   "cell_type": "code",
   "execution_count": 2,
   "metadata": {},
   "outputs": [],
   "source": [
    "num_samples = 5\n",
    "num_states = 2\n",
    "num_emissions = 2\n",
    "num_feedbacks = 3\n",
    "num_filter_bins = 30\n",
    "num_steps = 1\n",
    "filter_offset = 1"
   ]
  },
  {
   "cell_type": "code",
   "execution_count": 3,
   "metadata": {},
   "outputs": [],
   "source": [
    "initial_simulation_variables = loadmat('initial_simulation_variables.mat')\n",
    "\n",
    "X = []\n",
    "y = []\n",
    "\n",
    "for i in range(0, num_samples):\n",
    "    X.append(initial_simulation_variables['X'][91 * i:91 * (i + 1), :])\n",
    "    y.append(initial_simulation_variables['y'][i, :].astype(float))"
   ]
  },
  {
   "cell_type": "code",
   "execution_count": 4,
   "metadata": {},
   "outputs": [
    {
     "name": "stdout",
     "output_type": "stream",
     "text": [
      "Fitting iteration:   1\n",
      "Fitting categorical emission filters\n",
      "===================================================================================\n",
      "Solving the Minimization Problem\n",
      "===================================================================================\n",
      "    Iter:    |     F       |    ||g||    | |x - y|/|x| |   F Evals   |    alpha    \n",
      "-----------------------------------------------------------------------------------\n",
      "  1.000e+00  |  5.620e-01  |  1.791e-01  |  8.277e-02  |  2.000e+00  |  2.000e+00  \n",
      "  2.000e+00  |  2.418e-01  |  5.027e-02  |  6.746e-01  |  1.000e+00  |  1.000e+00  \n",
      "  3.000e+00  |  1.879e-01  |  2.670e-02  |  3.887e-01  |  1.000e+00  |  1.000e+00  \n",
      "  4.000e+00  |  1.686e-01  |  2.166e-02  |  5.237e-01  |  1.000e+00  |  1.000e+00  \n",
      "  5.000e+00  |  1.633e-01  |  2.274e-02  |  1.811e-01  |  1.000e+00  |  1.000e+00  \n",
      "  6.000e+00  |  1.586e-01  |  1.375e-02  |  8.680e-02  |  1.000e+00  |  1.000e+00  \n",
      "  7.000e+00  |  1.499e-01  |  8.079e-03  |  2.893e-01  |  1.000e+00  |  1.000e+00  \n",
      "  8.000e+00  |  1.444e-01  |  9.298e-03  |  3.283e-01  |  1.000e+00  |  1.000e+00  \n",
      "  9.000e+00  |  1.397e-01  |  7.200e-03  |  2.591e-01  |  1.000e+00  |  1.000e+00  \n",
      "  1.000e+01  |  1.389e-01  |  1.332e-02  |  2.379e-01  |  1.000e+00  |  1.000e+00  \n",
      "  1.100e+01  |  1.367e-01  |  3.061e-03  |  4.572e-02  |  1.000e+00  |  1.000e+00  \n",
      "  1.200e+01  |  1.366e-01  |  1.476e-03  |  8.553e-03  |  1.000e+00  |  1.000e+00  \n",
      "  1.300e+01  |  1.366e-01  |  5.818e-04  |  1.217e-02  |  1.000e+00  |  1.000e+00  \n",
      "  1.400e+01  |  1.366e-01  |  5.026e-04  |  6.280e-03  |  1.000e+00  |  1.000e+00  \n",
      "  1.500e+01  |  1.365e-01  |  4.402e-04  |  8.416e-03  |  1.000e+00  |  1.000e+00  \n",
      "  1.600e+01  |  1.365e-01  |  5.977e-04  |  1.314e-02  |  1.000e+00  |  1.000e+00  \n",
      "  1.700e+01  |  1.365e-01  |  6.218e-04  |  1.805e-02  |  1.000e+00  |  1.000e+00  \n",
      "  1.800e+01  |  1.365e-01  |  4.248e-04  |  8.140e-03  |  1.000e+00  |  1.000e+00  \n",
      "  1.900e+01  |  1.365e-01  |  3.142e-04  |  6.156e-03  |  1.000e+00  |  1.000e+00  \n",
      "  2.000e+01  |  1.365e-01  |  4.532e-04  |  5.787e-03  |  1.000e+00  |  1.000e+00  \n",
      "  2.100e+01  |  1.365e-01  |  1.934e-04  |  2.194e-03  |  1.000e+00  |  1.000e+00  \n",
      "  2.200e+01  |  1.365e-01  |  2.077e-04  |  3.631e-03  |  1.000e+00  |  1.000e+00  \n",
      "  2.300e+01  |  1.365e-01  |  2.026e-04  |  3.148e-03  |  1.000e+00  |  1.000e+00  \n",
      "  2.400e+01  |  1.365e-01  |  2.444e-04  |  6.769e-03  |  1.000e+00  |  1.000e+00  \n",
      "  2.500e+01  |  1.365e-01  |  2.160e-04  |  5.333e-03  |  1.000e+00  |  1.000e+00  \n",
      "  2.600e+01  |  1.365e-01  |  9.206e-05  |  1.773e-03  |  1.000e+00  |  1.000e+00  \n",
      "  2.700e+01  |  1.365e-01  |  6.231e-05  |  7.981e-04  |  1.000e+00  |  1.000e+00  \n",
      "  2.800e+01  |  1.365e-01  |  6.317e-05  |  1.237e-03  |  1.000e+00  |  1.000e+00  \n",
      "  2.900e+01  |  1.365e-01  |  1.300e-04  |  2.259e-03  |  1.000e+00  |  1.000e+00  \n",
      "  3.000e+01  |  1.365e-01  |  3.341e-05  |  4.283e-04  |  1.000e+00  |  1.000e+00  \n",
      "  3.100e+01  |  1.365e-01  |  2.440e-05  |  2.201e-04  |  1.000e+00  |  1.000e+00  \n",
      "==================================== Summary ======================================\n",
      "Iterations: 31\n",
      "Function Evaluations: 33\n",
      "F: 0.13647039234638214\n",
      "||g||: 2.439547643007245e-05\n",
      "===================================================================================\n",
      "===================================================================================\n",
      "Solving the Minimization Problem\n",
      "===================================================================================\n",
      "    Iter:    |     F       |    ||g||    | |x - y|/|x| |   F Evals   |    alpha    \n",
      "-----------------------------------------------------------------------------------\n",
      "  1.000e+00  |  3.447e-01  |  1.349e-01  |  1.099e-01  |  3.000e+00  |  4.000e+00  \n",
      "  2.000e+00  |  1.750e-01  |  4.156e-02  |  5.197e-01  |  1.000e+00  |  1.000e+00  \n",
      "  3.000e+00  |  1.590e-01  |  1.538e-02  |  1.329e-01  |  1.000e+00  |  1.000e+00  \n",
      "  4.000e+00  |  1.549e-01  |  1.182e-02  |  5.878e-02  |  1.000e+00  |  1.000e+00  \n",
      "  5.000e+00  |  1.431e-01  |  9.426e-03  |  2.867e-01  |  1.000e+00  |  1.000e+00  \n",
      "  6.000e+00  |  1.322e-01  |  1.061e-02  |  3.850e-01  |  1.000e+00  |  1.000e+00  \n",
      "  7.000e+00  |  1.263e-01  |  2.459e-02  |  1.196e+00  |  1.000e+00  |  1.000e+00  \n",
      "  8.000e+00  |  1.122e-01  |  7.017e-03  |  1.795e-01  |  1.000e+00  |  1.000e+00  \n",
      "  9.000e+00  |  1.103e-01  |  4.895e-03  |  4.887e-02  |  1.000e+00  |  1.000e+00  \n",
      "  1.000e+01  |  1.089e-01  |  3.291e-03  |  7.105e-02  |  1.000e+00  |  1.000e+00  \n",
      "  1.100e+01  |  1.087e-01  |  1.666e-03  |  4.212e-02  |  1.000e+00  |  1.000e+00  \n",
      "  1.200e+01  |  1.086e-01  |  7.703e-04  |  2.750e-02  |  1.000e+00  |  1.000e+00  \n",
      "  1.300e+01  |  1.086e-01  |  4.617e-04  |  4.026e-03  |  1.000e+00  |  1.000e+00  \n",
      "  1.400e+01  |  1.086e-01  |  4.975e-04  |  6.825e-03  |  1.000e+00  |  1.000e+00  \n",
      "  1.500e+01  |  1.086e-01  |  7.995e-04  |  2.080e-02  |  1.000e+00  |  1.000e+00  \n",
      "  1.600e+01  |  1.085e-01  |  1.069e-03  |  2.780e-02  |  1.000e+00  |  1.000e+00  \n",
      "  1.700e+01  |  1.085e-01  |  6.315e-04  |  2.211e-02  |  1.000e+00  |  1.000e+00  \n",
      "  1.800e+01  |  1.085e-01  |  2.203e-04  |  7.420e-03  |  1.000e+00  |  1.000e+00  \n",
      "  1.900e+01  |  1.085e-01  |  1.957e-04  |  2.259e-03  |  1.000e+00  |  1.000e+00  \n",
      "  2.000e+01  |  1.085e-01  |  2.582e-04  |  3.350e-03  |  1.000e+00  |  1.000e+00  \n",
      "  2.100e+01  |  1.085e-01  |  2.576e-04  |  7.080e-03  |  1.000e+00  |  1.000e+00  \n",
      "  2.200e+01  |  1.085e-01  |  3.650e-04  |  1.123e-02  |  1.000e+00  |  1.000e+00  \n",
      "  2.300e+01  |  1.085e-01  |  1.802e-04  |  8.447e-03  |  1.000e+00  |  1.000e+00  \n",
      "  2.400e+01  |  1.085e-01  |  8.923e-05  |  2.407e-03  |  1.000e+00  |  1.000e+00  \n",
      "  2.500e+01  |  1.085e-01  |  8.153e-05  |  1.902e-03  |  1.000e+00  |  1.000e+00  \n",
      "  2.600e+01  |  1.085e-01  |  9.111e-05  |  3.714e-03  |  1.000e+00  |  1.000e+00  \n",
      "  2.700e+01  |  1.085e-01  |  9.907e-05  |  2.433e-03  |  2.000e+00  |  4.358e-01  \n",
      "  2.800e+01  |  1.085e-01  |  5.014e-05  |  2.740e-03  |  1.000e+00  |  1.000e+00  \n",
      "  2.900e+01  |  1.085e-01  |  6.420e-05  |  1.554e-03  |  1.000e+00  |  1.000e+00  \n",
      "  3.000e+01  |  1.085e-01  |  4.983e-05  |  9.328e-04  |  1.000e+00  |  1.000e+00  \n",
      "  3.100e+01  |  1.085e-01  |  3.796e-05  |  7.653e-04  |  1.000e+00  |  1.000e+00  \n",
      "==================================== Summary ======================================\n",
      "Iterations: 31\n",
      "Function Evaluations: 35\n",
      "F: 0.10850350558757782\n",
      "||g||: 3.796375676756725e-05\n",
      "===================================================================================\n",
      "Fitting state transition filters\n",
      "===================================================================================\n",
      "Solving the Minimization Problem\n",
      "===================================================================================\n",
      "    Iter:    |     F       |    ||g||    | |x - y|/|x| |   F Evals   |    alpha    \n",
      "-----------------------------------------------------------------------------------\n",
      "  1.000e+00  |  3.805e+01  |  2.892e+01  |  0.000e+00  |  1.020e+02  |  0.000e+00  \n",
      "==================================== Summary ======================================\n",
      "Iterations: 1\n",
      "Function Evaluations: 103\n",
      "F: 38.05205154418945\n",
      "||g||: 28.924711227416992\n",
      "===================================================================================\n",
      "===================================================================================\n",
      "Solving the Minimization Problem\n",
      "===================================================================================\n",
      "    Iter:    |     F       |    ||g||    | |x - y|/|x| |   F Evals   |    alpha    \n",
      "-----------------------------------------------------------------------------------\n",
      "  1.000e+00  |  7.783e+01  |  2.979e+01  |  0.000e+00  |  1.020e+02  |  0.000e+00  \n",
      "==================================== Summary ======================================\n",
      "Iterations: 1\n",
      "Function Evaluations: 103\n",
      "F: 77.82877349853516\n",
      "||g||: 29.788564682006836\n",
      "===================================================================================\n",
      "Log likelihood: -896407.1951214138\n",
      "Fitting iteration:   2\n",
      "Fitting categorical emission filters\n",
      "===================================================================================\n",
      "Solving the Minimization Problem\n"
     ]
    },
    {
     "name": "stdout",
     "output_type": "stream",
     "text": [
      "===================================================================================\n",
      "    Iter:    |     F       |    ||g||    | |x - y|/|x| |   F Evals   |    alpha    \n",
      "-----------------------------------------------------------------------------------\n",
      "  1.000e+00  |  1.365e-01  |  2.174e-05  |  4.319e-05  |  5.000e+00  |  1.600e+01  \n",
      "==================================== Summary ======================================\n",
      "Iterations: 1\n",
      "Function Evaluations: 6\n",
      "F: 0.13647063076496124\n",
      "||g||: 2.1738169380114414e-05\n",
      "===================================================================================\n",
      "===================================================================================\n",
      "Solving the Minimization Problem\n",
      "===================================================================================\n",
      "    Iter:    |     F       |    ||g||    | |x - y|/|x| |   F Evals   |    alpha    \n",
      "-----------------------------------------------------------------------------------\n",
      "  1.000e+00  |  1.085e-01  |  3.280e-05  |  4.303e-05  |  4.000e+00  |  8.000e+00  \n",
      "==================================== Summary ======================================\n",
      "Iterations: 1\n",
      "Function Evaluations: 5\n",
      "F: 0.10849900543689728\n",
      "||g||: 3.280490273027681e-05\n",
      "===================================================================================\n",
      "Fitting state transition filters\n",
      "===================================================================================\n",
      "Solving the Minimization Problem\n",
      "===================================================================================\n",
      "    Iter:    |     F       |    ||g||    | |x - y|/|x| |   F Evals   |    alpha    \n",
      "-----------------------------------------------------------------------------------\n",
      "  1.000e+00  |  3.805e+01  |  2.893e+01  |  0.000e+00  |  1.020e+02  |  0.000e+00  \n",
      "==================================== Summary ======================================\n",
      "Iterations: 1\n",
      "Function Evaluations: 103\n",
      "F: 38.05235290527344\n",
      "||g||: 28.925073623657227\n",
      "===================================================================================\n",
      "===================================================================================\n",
      "Solving the Minimization Problem\n",
      "===================================================================================\n",
      "    Iter:    |     F       |    ||g||    | |x - y|/|x| |   F Evals   |    alpha    \n",
      "-----------------------------------------------------------------------------------\n",
      "  1.000e+00  |  7.783e+01  |  2.979e+01  |  0.000e+00  |  1.020e+02  |  0.000e+00  \n",
      "==================================== Summary ======================================\n",
      "Iterations: 1\n",
      "Function Evaluations: 103\n",
      "F: 77.8276596069336\n",
      "||g||: 29.78813934326172\n",
      "===================================================================================\n",
      "Log likelihood: -896412.0700178941\n",
      "Fitting iteration:   3\n",
      "Fitting categorical emission filters\n",
      "===================================================================================\n",
      "Solving the Minimization Problem\n",
      "===================================================================================\n",
      "    Iter:    |     F       |    ||g||    | |x - y|/|x| |   F Evals   |    alpha    \n",
      "-----------------------------------------------------------------------------------\n",
      "  1.000e+00  |  1.365e-01  |  1.955e-05  |  7.860e-05  |  6.000e+00  |  3.200e+01  \n",
      "==================================== Summary ======================================\n",
      "Iterations: 1\n",
      "Function Evaluations: 7\n",
      "F: 0.13647201657295227\n",
      "||g||: 1.9553093807189725e-05\n",
      "===================================================================================\n",
      "===================================================================================\n",
      "Solving the Minimization Problem\n",
      "===================================================================================\n",
      "    Iter:    |     F       |    ||g||    | |x - y|/|x| |   F Evals   |    alpha    \n",
      "-----------------------------------------------------------------------------------\n",
      "  1.000e+00  |  1.085e-01  |  3.010e-05  |  3.790e-05  |  4.000e+00  |  8.000e+00  \n",
      "==================================== Summary ======================================\n",
      "Iterations: 1\n",
      "Function Evaluations: 5\n",
      "F: 0.10849560797214508\n",
      "||g||: 3.0095914553385228e-05\n",
      "===================================================================================\n",
      "Fitting state transition filters\n",
      "===================================================================================\n",
      "Solving the Minimization Problem\n",
      "===================================================================================\n",
      "    Iter:    |     F       |    ||g||    | |x - y|/|x| |   F Evals   |    alpha    \n",
      "-----------------------------------------------------------------------------------\n",
      "  1.000e+00  |  3.805e+01  |  2.893e+01  |  0.000e+00  |  1.020e+02  |  0.000e+00  \n",
      "==================================== Summary ======================================\n",
      "Iterations: 1\n",
      "Function Evaluations: 103\n",
      "F: 38.052547454833984\n",
      "||g||: 28.925294876098633\n",
      "===================================================================================\n",
      "===================================================================================\n",
      "Solving the Minimization Problem\n",
      "===================================================================================\n",
      "    Iter:    |     F       |    ||g||    | |x - y|/|x| |   F Evals   |    alpha    \n",
      "-----------------------------------------------------------------------------------\n",
      "  1.000e+00  |  7.783e+01  |  2.979e+01  |  0.000e+00  |  1.020e+02  |  0.000e+00  \n",
      "==================================== Summary ======================================\n",
      "Iterations: 1\n",
      "Function Evaluations: 103\n",
      "F: 77.82699584960938\n",
      "||g||: 29.78787612915039\n",
      "===================================================================================\n",
      "Log likelihood: -896413.464789972\n",
      "Change in log likelihood is below threshold!\n",
      "FINISHED!\n"
     ]
    },
    {
     "data": {
      "text/plain": [
       "GLMHMMEstimator(AR_lambda=-1, AR_vec=array([510, 511, ..., 628, 629]),\n",
       "        CV_regularize=False, GLM_emissions=True, GLM_transitions=True,\n",
       "        L2_smooth=False, add_filters=False, analog_flag=False,\n",
       "        anneal_lambda=False, auto_anneal=False,\n",
       "        auto_anneal_schedule=array([ 1,  5,  7,  8,  9, 10, 11, 12, 13, 14, 15, 16]),\n",
       "        auto_anneal_vec=array([0.01 , 0.025, 0.05 , 0.075, 0.1  , 0.25 , 0.5  , 0.75 , 1.   ]),\n",
       "        cross_validate=False, emit_lambda=0, evaluate=False,\n",
       "        filter_offset=1, fit_emissions=True, generate=False,\n",
       "        get_error_bars=False, init_loglik=-10000000.0, max_iter=1000,\n",
       "        num_emissions=1, num_feedbacks=3, num_filter_bins=30,\n",
       "        num_samples=5, num_states=2, num_steps=1,\n",
       "        output_filename='GLMHMM_output.mat',\n",
       "        random_state=<mtrand.RandomState object at 0x000001F5D9ED21B0>,\n",
       "        smooth_lambda=0, stim_vec=array([  0,   1, ..., 509, 630]),\n",
       "        symb_exists=True, tol=0.0001, train_bins=array([], dtype=float64),\n",
       "        trans_lambda=0, use_ASD=True)"
      ]
     },
     "execution_count": 4,
     "metadata": {},
     "output_type": "execute_result"
    }
   ],
   "source": [
    "estimator = GLMHMMEstimator(num_samples = num_samples, num_states = num_states, num_emissions = num_emissions, num_feedbacks = num_feedbacks, num_filter_bins = num_filter_bins, num_steps = num_steps, filter_offset = filter_offset)\n",
    "estimator.fit(X, y, [], initial_simulation_variables['emit_w'], initial_simulation_variables['trans_w'])"
   ]
  },
  {
   "cell_type": "code",
   "execution_count": 6,
   "metadata": {},
   "outputs": [
    {
     "name": "stdout",
     "output_type": "stream",
     "text": [
      "(2, 1, 91)\n",
      "(2, 2, 91)\n"
     ]
    }
   ],
   "source": [
    "data = loadmat('GLMHMM_output.mat')\n",
    "emit_w_final = data['output'][0][-1]['emit_w'][0][0]\n",
    "trans_w_final = data['output'][0][-1]['trans_w'][0][0]\n",
    "print(emit_w_final.shape)\n",
    "print(trans_w_final.shape)"
   ]
  },
  {
   "cell_type": "code",
   "execution_count": 7,
   "metadata": {},
   "outputs": [
    {
     "data": {
      "image/png": "[encoded data removed]",
      "text/plain": [
       "<Figure size 432x288 with 1 Axes>"
      ]
     },
     "metadata": {
      "needs_background": "light"
     },
     "output_type": "display_data"
    }
   ],
   "source": [
    "plt.figure()\n",
    "plt.title(\"Final Emission\")\n",
    "plt.xlabel(\"x\")\n",
    "plt.ylabel(\"p\")\n",
    "plt.plot(range(0, 91), emit_w_final[0, 0, :], \"-r\")\n",
    "plt.plot(range(0, 91), emit_w_final[1, 0, :], \"-g\")\n",
    "plt.show()"
   ]
  },
  {
   "cell_type": "code",
   "execution_count": 8,
   "metadata": {},
   "outputs": [
    {
     "data": {
      "image/png": "[encoded data removed]",
      "text/plain": [
       "<Figure size 432x288 with 1 Axes>"
      ]
     },
     "metadata": {
      "needs_background": "light"
     },
     "output_type": "display_data"
    }
   ],
   "source": [
    "plt.figure()\n",
    "plt.title(\"Final Transition (off-diagonal)\")\n",
    "plt.xlabel(\"x\")\n",
    "plt.ylabel(\"p\")\n",
    "plt.plot(range(0, 91), trans_w_final[0, 1, :], \"-r\")\n",
    "plt.plot(range(0, 91), trans_w_final[1, 0, :], \"-g\")\n",
    "plt.show()"
   ]
  },
  {
   "cell_type": "code",
   "execution_count": null,
   "metadata": {},
   "outputs": [],
   "source": []
  }
 ],
 "metadata": {
  "kernelspec": {
   "display_name": "Python 3",
   "language": "python",
   "name": "python3"
  },
  "language_info": {
   "codemirror_mode": {
    "name": "ipython",
    "version": 3
   },
   "file_extension": ".py",
   "mimetype": "text/x-python",
   "name": "python",
   "nbconvert_exporter": "python",
   "pygments_lexer": "ipython3",
   "version": "3.7.1"
  }
 },
 "nbformat": 4,
 "nbformat_minor": 2
}
